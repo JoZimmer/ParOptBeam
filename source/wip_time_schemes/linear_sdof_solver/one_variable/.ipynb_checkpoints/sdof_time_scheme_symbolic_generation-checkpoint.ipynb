{
 "cells": [
  {
   "cell_type": "markdown",
   "metadata": {},
   "source": [
    "# One variable based symbolic time scheme deriviation\n",
    "\n",
    "$M \\cdot u''(t) + C \\cdot u'(t) + K \\cdot u(t) = f$\n",
    "\n",
    "The one variable model tries to discreitze u' and u'' with a given time scheme\n",
    "and insert the discretized velococity and acceleration back to the balance equation"
   ]
  },
  {
   "cell_type": "code",
   "execution_count": 1,
   "metadata": {},
   "outputs": [],
   "source": [
    "# initialization\n",
    "from sympy import *\n",
    "import cmath\n",
    "import sys\n",
    "\n",
    "init_printing(use_unicode=True)\n",
    "\n",
    "an1, an, un2, un1, un, unm1, unm2, unm3, vn1, vn, vnm1, vnm2, t, dt = symbols('an1 an un2 un1 un unm1 unm2 unm3 vn1 vn vnm1 vnm2 t SDoF.dt')\n",
    "f, K, C, M = symbols('SDoF.f(t) SDoF.K SDoF.C SDoF.M')"
   ]
  },
  {
   "cell_type": "markdown",
   "metadata": {},
   "source": [
    "For all formulations here, subscript $_n$ indicates the current step and $_{n-1}$ the previous step, to be solved is always $_{n+1}$"
   ]
  },
  {
   "cell_type": "markdown",
   "metadata": {},
   "source": [
    "## Displacement based euler\n",
    "Base on the definetion of euler scheme, the next point $y_{n+1}$ can be derived as:\n",
    "\n",
    "$y_{n+1} = y_n + f(t_n) \\cdot dt$, \n",
    "\n",
    "the slope at the current point $f(t_n)$ can therefore be dreived as:\n",
    "\n",
    "$f(t_n) = (y_{n+1} - y_n ) / dt$. \n",
    "\n",
    "Analogically, taken displacement $u$ as the function value $y$, and velocity $v$ as the slope $f$, we derive:\n",
    "\n",
    "$v_n = (u_{n+1} - u_n ) / dt$\n",
    "\n",
    "$a_{n-1}$ is discretized instead of $a_n$ as the latter introduces a new unkown variable $v_n$, which further requires $u_{n+2}$ to discretise.\n",
    "\n",
    "$a_{n-1} = (v_{n} - v_{n-1} ) / dt$\n",
    "\n",
    "The balance equation is then solved at time step $n-1$ for $u_{n+1}$ "
   ]
  },
  {
   "cell_type": "code",
   "execution_count": 2,
   "metadata": {},
   "outputs": [
    {
     "name": "stdout",
     "output_type": "stream",
     "text": [
      "##### EULER #####\n",
      "u_n1 =  (-SDoF.C*SDoF.dt*un + SDoF.C*SDoF.dt*unm1 - SDoF.K*SDoF.dt**2*unm1 + SDoF.M*(2*un - unm1) + SDoF.dt**2*SDoF.f(t))/SDoF.M\n"
     ]
    }
   ],
   "source": [
    "def euler_disp_based():\n",
    "    # ### EULER ###\n",
    "    # M * u''(t) + C * u'(t) + K * u(t) = f\n",
    "    global an, un2, un1, un, unm1, vn1, vn, vnm1, t, dt, f, K, C, M\n",
    "\n",
    "    vn = (un1 - un) / dt\n",
    "    vnm1 = ( un - unm1) / dt\n",
    "    anm1 = ( vn - vnm1 ) / dt\n",
    "\n",
    "    eq_u = M * anm1 + C * vnm1 + K * unm1 - f\n",
    "    #print(eq_u)\n",
    "\n",
    "    sol = solve(eq_u, un1)\n",
    "    un1 = sol[0]\n",
    "\n",
    "    print(\"##### EULER #####\")\n",
    "    print(\"u_n1 = \", un1)\n",
    "\n",
    "euler_disp_based()"
   ]
  },
  {
   "cell_type": "markdown",
   "metadata": {},
   "source": [
    "## Displacement based bdf1 (backward euler)\n",
    "Base on the definetion of backward euler scheme, the next point $y_{n+1}$ can be derived as:\n",
    "\n",
    "$y_{n+1} = y_n + f(t_{n+1}) \\cdot dt$, \n",
    "\n",
    "the slope at the next point $f(t_{n+1})$ can therefore be dreived as:\n",
    "\n",
    "$f(t_{n+1}) = (y_{n+1} - y_n ) / dt$. \n",
    "\n",
    "Analogically, taken displacement $u$ as the function value $y$, and velocity $v$ as the slope $f$, we derive:\n",
    "\n",
    "$v_{n+1} = (u_{n+1} - u_n ) / dt$\n",
    "\n",
    "Unlike in the explicit scheme, $a_{n+1}$ is discretized instead of $a_{n-1}$.\n",
    "\n",
    "$a_{n+1} = (v_{n+1} - v_{n} ) / dt$\n",
    "\n",
    "The balance equation is then solved at time step $n+1$ for $u_{n+1}$ "
   ]
  },
  {
   "cell_type": "code",
   "execution_count": 3,
   "metadata": {},
   "outputs": [
    {
     "name": "stdout",
     "output_type": "stream",
     "text": [
      "##### BDF1 #####\n",
      "u_n1 =  (SDoF.C*SDoF.dt*un + 2*SDoF.M*un - SDoF.M*unm1 + SDoF.dt**2*SDoF.f(t))/(SDoF.C*SDoF.dt + SDoF.K*SDoF.dt**2 + SDoF.M)\n"
     ]
    }
   ],
   "source": [
    "def bdf1_disp_based():\n",
    "    # ### BDF1 ###\n",
    "    # M * u''(t) + C * u'(t) + K * u(t) = f\n",
    "    global an, un1, un, unm1, unm2, vn1, vn, vnm1, vnm2, t, dt, f, K, C, M\n",
    "\n",
    "    vn1 = ( un1 - un) / dt\n",
    "    vn = ( un - unm1) / dt\n",
    "    an1 = ( vn1 - vn ) / dt\n",
    "\n",
    "    eq_u = M * an1 + C * vn1 + K * un1 - f\n",
    "    #print(eq_u)\n",
    "\n",
    "    sol = solve(eq_u, un1)\n",
    "    un1 = (sol[0])\n",
    "\n",
    "    print(\"##### BDF1 #####\")\n",
    "    print(\"u_n1 = \", un1)\n",
    "    \n",
    "bdf1_disp_based()"
   ]
  },
  {
   "cell_type": "markdown",
   "metadata": {},
   "source": [
    "## Displacement based bdf2\n",
    "Base on the definetion of bdf2 scheme, the next point $y_{n+1}$ can be derived as:\n",
    "\n",
    "$y_{n+1} = 4/3 \\cdot y_n - 1/3 \\cdot y_{n-1} + 2/3 \\cdot dt \\cdot f(t_{n+1}, u_{n+1}) $, \n",
    "\n",
    "the slope at the next point $f(t_{n+1})$ can therefore be dreived as:\n",
    "\n",
    "$f(t_{n+1}) = 0.5 / dt \\cdot (3 \\cdot y_{n+1} - 4 \\cdot y_n + y_{n-1})$. \n",
    "\n",
    "Analogically, taken displacement $u$ as the function value $y$, and velocity $v$ as the slope $f$, we derive:\n",
    "\n",
    "$v_{n+1} = 0.5 / dt \\cdot (3 \\cdot u_{n+1} - 4 \\cdot u_n + u_{n-1})$\n",
    "\n",
    "Unlike in the explicit scheme, $a_{n+1}$ is discretized instead of $a_{n-1}$.\n",
    "\n",
    "$a_{n+1} = 0.5 / dt \\cdot (3 \\cdot v_{n+1} - 4 \\cdot v_n + v_{n-1})$\n",
    "\n",
    "The balance equation is then solved at time step $n+1$ for $u_{n+1}$ "
   ]
  },
  {
   "cell_type": "code",
   "execution_count": 4,
   "metadata": {},
   "outputs": [
    {
     "name": "stdout",
     "output_type": "stream",
     "text": [
      "##### BDF2 #####\n",
      "u_n1 =  (2*SDoF.C**2*SDoF.dt**2*un - 2*SDoF.C**2*SDoF.dt**2*unm1 + 8*SDoF.C*SDoF.K*SDoF.dt**3*un - 2*SDoF.C*SDoF.K*SDoF.dt**3*unm1 + 11*SDoF.C*SDoF.M*SDoF.dt*un - 18*SDoF.C*SDoF.M*SDoF.dt*unm1 + 8*SDoF.C*SDoF.M*SDoF.dt*unm2 - SDoF.C*SDoF.M*SDoF.dt*unm3 - 2*SDoF.C*SDoF.dt**3*SDoF.f(t) + 24*SDoF.K*SDoF.M*SDoF.dt**2*un - 22*SDoF.K*SDoF.M*SDoF.dt**2*unm1 + 8*SDoF.K*SDoF.M*SDoF.dt**2*unm2 - SDoF.K*SDoF.M*SDoF.dt**2*unm3 + 4*SDoF.K*SDoF.dt**4*SDoF.f(t) + 6*SDoF.M**2*un - 13*SDoF.M**2*unm1 + 8*SDoF.M**2*unm2 - SDoF.M**2*unm3 - 5*SDoF.M*SDoF.dt**2*SDoF.f(t))/(4*SDoF.K*SDoF.dt**2*(SDoF.C*SDoF.dt + SDoF.K*SDoF.dt**2 + SDoF.M))\n"
     ]
    }
   ],
   "source": [
    "def bdf2_disp_based():\n",
    "    # ### BDF2 ###\n",
    "    # un+1 = 4/3 un - 1/3 un-1 + 2/3 dt f(tn+1, un+1)\n",
    "    # vn+1 = 0.5/dt * (3 un+1 - 4 un + unm1)\n",
    "    global an1, an, un1, un, unm1, unm2, vn1, vn, vnm1, vnm2, t, dt, f, K, C, M\n",
    "\n",
    "    c0 =  3 * 0.5/dt\n",
    "    c1 =  -4 * 0.5/dt\n",
    "    c2 =  1 * 0.5/dt\n",
    "\n",
    "    vn1 = c0 * un1 + c1 * un + c2 * unm1\n",
    "    vn = c0 * un + c1 * unm1 + c2 * unm2\n",
    "    vnm1 =  c0 * unm1 + c1 * unm2 + c2 * unm3\n",
    "\n",
    "    an1 = c0 * vn1 + c1 * vn + c2 * vnm1\n",
    "\n",
    "    eq_u = nsimplify (M * an1 + C * vn1 + K * un1 - f)\n",
    "    #print(eq_u)\n",
    "\n",
    "    sol = solve(eq_u, un1)\n",
    "    un1 = nsimplify (sol[0])\n",
    "\n",
    "    print(\"##### BDF2 #####\")\n",
    "    print(\"u_n1 = \", un1)\n",
    "\n",
    "bdf2_disp_based()"
   ]
  },
  {
   "cell_type": "markdown",
   "metadata": {},
   "source": [
    "## Velocity based euler\n",
    "\n",
    "It is impossible to express $v_{n+1}$ with pure velocity components as velocity need to be\n",
    "integrated to describe the displacemt in $M \\cdot u''(t) + C \\cdot u'(t) + K \\cdot u(t) = f$\n",
    "\n",
    "$u_{n-1} = u_{n-2} + v_{n-2} \\cdot dt$ \n",
    "\n",
    "$u_n = u_{n-1} + v_{n-1} \\cdot dt$\n",
    "\n",
    ".\n",
    ".\n",
    ".\n",
    "\n",
    "$\\rightarrow$ this will be an infinetive substraction till the inital value $u_0$\n",
    "\n",
    "Therefore, for the velocity based scheme, displacment terms are still involed, but only the solved previous step values. Other difference compared to the displacement based scheme is that the balance equation is discretized at step $n$ instead of $n-1$\n",
    "\n",
    "The displacement is updated using the known velocity and displacement, for forward euler, it holds:\n",
    "\n",
    "$u_{n+1} = v_{n} * dt $\n"
   ]
  },
  {
   "cell_type": "code",
   "execution_count": 5,
   "metadata": {},
   "outputs": [
    {
     "name": "stdout",
     "output_type": "stream",
     "text": [
      "##### euler #####\n",
      "v_n1 =  (-SDoF.C*SDoF.dt*vn - SDoF.K*SDoF.dt*un + SDoF.M*vn + SDoF.dt*SDoF.f(t))/SDoF.M\n"
     ]
    }
   ],
   "source": [
    "def euler_vel_based():\n",
    "    # ### euler ###\n",
    "    # M * u''(t) + C * u'(t) + K * u(t) = f\n",
    "    an1, an, un2, un1, un, unm1, unm2, unm3, vn1, vn, vnm1, vnm2, t, dt = symbols('an1 an un2 un1 un unm1 unm2 unm3 vn1 vn vnm1 vnm2 t SDoF.dt')\n",
    "    f, K, C, M = symbols('SDoF.f(t) SDoF.K SDoF.C SDoF.M')\n",
    "    \n",
    "    an = (vn1 - vn) / dt\n",
    "    eq_v = M * an + C * vn + K * un - f\n",
    "    #print(eq_v)\n",
    "    \n",
    "    sol = solve(eq_v, vn1)\n",
    "    vn1 = sol[0]\n",
    "\n",
    "    print(\"##### euler #####\")\n",
    "    print(\"v_n1 = \", vn1)\n",
    "\n",
    "euler_vel_based()"
   ]
  },
  {
   "cell_type": "markdown",
   "metadata": {},
   "source": [
    "## Velocity based bdf1\n",
    "The velocity based bdf1 is discreitized at step $n+1$, $u_{n+1}$ is an unknown and need to be described as a fucntion of $v_{n+1}$ and the kown displacment $u_n$:\n",
    "\n",
    "The displacement is updated using the known velocity at step $n+1$ and displacement at step $n$, for backward euler, it holds:\n",
    "\n",
    "$u_{n+1} = u_n + v_{n+1} \\cdot dt$"
   ]
  },
  {
   "cell_type": "code",
   "execution_count": 6,
   "metadata": {},
   "outputs": [
    {
     "name": "stdout",
     "output_type": "stream",
     "text": [
      "##### bdf1 #####\n",
      "v_n1 =  (SDoF.M*vn - SDoF.M*(-vn + vnm1) + SDoF.dt*SDoF.f(t) - SDoF.dt*(-SDoF.C*vn + SDoF.f(t)))/(SDoF.C*SDoF.dt + SDoF.K*SDoF.dt**2 + SDoF.M)\n"
     ]
    }
   ],
   "source": [
    "def bdf1_vel_based():\n",
    "    # ### bdf1 ###\n",
    "    # M * u''(t) + C * u'(t) + K * u(t) = f\n",
    "    an1, an, un2, un1, un, unm1, unm2, unm3, vn1, vn, vnm1, vnm2, t, dt = symbols('an1 an un2 un1 un unm1 unm2 unm3 vn1 vn vnm1 vnm2 t SDoF.dt')\n",
    "    f, K, C, M = symbols('SDoF.f(t) SDoF.K SDoF.C SDoF.M')\n",
    "    \n",
    "    un1 = un + vn1 * dt\n",
    "    an1 = (vn1 - vn) / dt\n",
    "\n",
    "    eq_u = M * an1 + C * vn1 + K * un1 - f\n",
    "    #print(eq_u)\n",
    "\n",
    "    sol = solve(eq_u, un1)\n",
    "    un1 = sol[0]\n",
    "    _un = un1.subs({vn1: vn, vn: vnm1})\n",
    "    #print(\"u_n = \", _un)\n",
    "\n",
    "    sol = solve(eq_u, vn1)\n",
    "    vn1 = sol[0]\n",
    "    vn1 = vn1.subs({un: _un})\n",
    "    #print(eq_u)\n",
    "\n",
    "    print(\"##### bdf1 #####\")\n",
    "    print(\"v_n1 = \", vn1)\n",
    "    \n",
    "bdf1_vel_based()"
   ]
  },
  {
   "cell_type": "markdown",
   "metadata": {},
   "source": [
    "## Velocity based bdf2\n",
    "Similar to the bdf1, velocity based bdf1 is also discreitized at step $n+1$, $u_{n+1}$ is an unknown and need to be described as a fucntion of $v_{n+1}$ and the kown displacment $u_n$:\n",
    "\n",
    "$u_{n+1} =  4/3 \\cdot u_n - 1/3 \\cdot u_{n-1} + 2/3 \\cdot dt \\cdot v_{n+1}$"
   ]
  },
  {
   "cell_type": "code",
   "execution_count": 7,
   "metadata": {
    "scrolled": true
   },
   "outputs": [
    {
     "name": "stdout",
     "output_type": "stream",
     "text": [
      "##### BDF2 #####\n",
      "v_n1 =  (-8*SDoF.K*SDoF.dt*un + 2*SDoF.K*SDoF.dt*unm1 + 12*SDoF.M*vn - 3*SDoF.M*vnm1 + 6*SDoF.dt*SDoF.f(t))/(6*SDoF.C*SDoF.dt + 4*SDoF.K*SDoF.dt**2 + 9*SDoF.M)\n"
     ]
    }
   ],
   "source": [
    "def bdf2_vel_based():\n",
    "    # ### BDF2 ###\n",
    "    # un+1 = 4/3 un - 1/3 un-1 + 2/3 dt f(tn+1, un+1)\n",
    "    # vn+1 = 0.5/dt * (3 un+1 - 4 un + unm1)\n",
    "    an1, an, un2, un1, un, unm1, unm2, unm3, vn1, vn, vnm1, vnm2, t, dt = symbols('an1 an un2 un1 un unm1 unm2 unm3 vn1 vn vnm1 vnm2 t SDoF.dt')\n",
    "    f, K, C, M = symbols('SDoF.f(t) SDoF.K SDoF.C SDoF.M')\n",
    "    \n",
    "    c0 =  3 * 0.5/dt\n",
    "    c1 =  -4 * 0.5/dt\n",
    "    c2 =  1 * 0.5/dt\n",
    "\n",
    "    un1 = 4/3 * un - 1/3 * unm1 + 2/3 * dt * vn1\n",
    "    an1 = c0 * vn1 + c1 * vn + c2 * vnm1\n",
    "\n",
    "    eq_u = nsimplify (M * an1 + C * vn1 + K * un1 - f)\n",
    "    #print(eq_u)\n",
    "\n",
    "    sol = solve(eq_u, vn1)\n",
    "    #print(sol)\n",
    "    vn1 = nsimplify (sol[0])\n",
    "\n",
    "    print(\"##### BDF2 #####\")\n",
    "    print(\"v_n1 = \", vn1)\n",
    "\n",
    "bdf2_vel_based()"
   ]
  },
  {
   "cell_type": "markdown",
   "metadata": {
    "collapsed": true
   },
   "source": [
    "This symbolic generation are executed with the corresbonding *_derivation_symbolic* file and should be called with the desired scheme name. The outprinted result is then paste into the *time_schemes.py* file which will be called in the sdof_solver.py"
   ]
  },
  {
   "cell_type": "markdown",
   "metadata": {
    "collapsed": true
   },
   "source": [
    "# Two variable based symbolic time scheme deriviation\n",
    "\n",
    "$M \\cdot u''(t) + C \\cdot u'(t) + K \\cdot u(t) = f$\n",
    "\n",
    "rewrite 2nd order ODE into system of 1st order ODEs\n",
    "  \n",
    "  - (I)  $v'(t) = - C \\cdot v(t) - K / M \\cdot u(t)$\n",
    "  \n",
    "  - (II) $u'(t) = v(t)$"
   ]
  },
  {
   "cell_type": "markdown",
   "metadata": {},
   "source": [
    "Two ODEs are defined, as well as two rhs. \n",
    "\n",
    "- The rhs for the velocity is the acceleration, which is the resultant of the external and internal forces over the mass\n",
    "\n",
    "- The rhs for the displacement is simply the velocity\n",
    "\n",
    "As only the velocity equation is solved with the original equation, one would expect the two variable formulation to have a similar result to the velocity based scheme.\n",
    "\n",
    "The rhs functions for the velocity and the displacement are defined as follows:"
   ]
  },
  {
   "cell_type": "code",
   "execution_count": 8,
   "metadata": {},
   "outputs": [],
   "source": [
    "def rhs(t, u, v):\n",
    "    f, K, C, M = symbols('f K C M')\n",
    "    return (f - K * u - C * v) / M\n",
    "\n",
    "\n",
    "# rhs for the u'(t) = v ODE.\n",
    "def g(v):\n",
    "    return v"
   ]
  },
  {
   "cell_type": "markdown",
   "metadata": {},
   "source": [
    "## Two variable euler\n",
    "\n",
    "similar to one variable displacement based euler, the next step $n+1$ is calculated based on slope of the previous step $n$, this holds for both velocity and displacement. "
   ]
  },
  {
   "cell_type": "code",
   "execution_count": 9,
   "metadata": {},
   "outputs": [
    {
     "name": "stdout",
     "output_type": "stream",
     "text": [
      "-vn + vn1 - dt*(-C*vn - K*un + f)/M\n",
      "-dt*vn - un + un1\n",
      "##### euler #####\n",
      "un1 =  dt*vn + un\n",
      "vn1 =  (-C*dt*vn - K*dt*un + M*vn + dt*f)/M\n"
     ]
    }
   ],
   "source": [
    "def euler():\n",
    "    # ### euler ###\n",
    "    # vn+1 = vn + dt f(tn, vn)\n",
    "    un1, un, vn1, vn, t, dt = symbols('un1 un vn1 vn t dt')\n",
    "\n",
    "    f_v = rhs(t, un, vn)\n",
    "    f_u = g(vn)\n",
    "\n",
    "    eq_v = vn1 - ( vn + f_v * dt )\n",
    "    eq_u = un1 - ( un + f_u * dt )\n",
    "\n",
    "    print(eq_v)\n",
    "    print(eq_u)\n",
    "\n",
    "    sol = linsolve([eq_v, eq_u],(vn1, un1))\n",
    "    vn1 = sol.args[0][0]\n",
    "    un1 = sol.args[0][1]\n",
    "\n",
    "    print(\"##### euler #####\")\n",
    "    print(\"un1 = \", un1)\n",
    "    print(\"vn1 = \", vn1)\n",
    "\n",
    "euler()"
   ]
  },
  {
   "cell_type": "markdown",
   "metadata": {},
   "source": [
    "## Two variable bdf1\n",
    "\n",
    "Similar to euler, the residual equations for the implicit euler can be stated. Unlike the explicit euler scheme, as the implicit scheme contains future information on the right hand side, it need to be solved. The sympy *solve* function provides this utility."
   ]
  },
  {
   "cell_type": "code",
   "execution_count": 10,
   "metadata": {},
   "outputs": [
    {
     "name": "stdout",
     "output_type": "stream",
     "text": [
      "##### BDF1 #####\n",
      "un1 =  (dt*(M*vn + dt*f) + un*(C*dt + M))/(C*dt + K*dt**2 + M)\n",
      "vn1 =  (-K*dt*un + M*vn + dt*f)/(C*dt + K*dt**2 + M)\n"
     ]
    }
   ],
   "source": [
    "def bdf1():\n",
    "    # ### BDF1 ###\n",
    "    # vn+1 = vn + dt f(tn+1, vn+1)\n",
    "    un1, un, vn1, vn, t, dt, K, M, C, f = symbols('un1 un vn1 vn t dt K M C f')\n",
    "\n",
    "    f_v = rhs(t, un1, vn1)\n",
    "    f_u = g(vn1)\n",
    "\n",
    "    eq_v = vn1 - ( vn + f_v * dt )\n",
    "    eq_u = un1 - ( un + f_u * dt )\n",
    "\n",
    "    sol = solve([eq_v, eq_u],(vn1, un1))\n",
    "    un1 = sol[un1]\n",
    "    vn1 = sol[vn1]\n",
    "\n",
    "    print(\"##### BDF1 #####\")\n",
    "    print(\"un1 = \", un1)\n",
    "    print(\"vn1 = \", vn1)\n",
    "\n",
    "bdf1()"
   ]
  },
  {
   "cell_type": "markdown",
   "metadata": {},
   "source": [
    "## Two variable bdf2\n"
   ]
  },
  {
   "cell_type": "code",
   "execution_count": 11,
   "metadata": {},
   "outputs": [
    {
     "name": "stdout",
     "output_type": "stream",
     "text": [
      "##### BDF2 #####\n",
      "un1 =  (2.0*dt*(4.0*M*vn - M*vnm1 + 2.0*dt*f) + (4.0*un - unm1)*(2.0*C*dt + 3.0*M))/(6.0*C*dt + 4.0*K*dt**2 + 9.0*M)\n",
      "vn1 =  (-8.0*K*dt*un + 2.0*K*dt*unm1 + 12.0*M*vn - 3.0*M*vnm1 + 6.0*dt*f)/(6.0*C*dt + 4.0*K*dt**2 + 9.0*M)\n"
     ]
    }
   ],
   "source": [
    "def bdf2():\n",
    "    # ### BDF2 ###\n",
    "    # vn+1 = 4/3 vn - 1/3 vn-1 + 2/3 dt f(tn+1, vn+1)\n",
    "    un1, un, unm1, vn1, vn, vnm1, t, dt = symbols('un1 un unm1 vn1 vn vnm1 t dt')\n",
    "\n",
    "    f_v = rhs(t, un1, vn1)\n",
    "    f_u = g(vn1)\n",
    "\n",
    "    eq_v = vn1 - ( 4/3 * vn - 1/3 * vnm1 + 2/3 * dt * f_v )\n",
    "    eq_u = un1 - ( 4/3 * un - 1/3 * unm1 + 2/3 * dt * f_u )\n",
    "\n",
    "    sol = solve([eq_v, eq_u],(vn1, un1))\n",
    "    un1 = sol[un1]\n",
    "    vn1 = sol[vn1]\n",
    "\n",
    "    print(\"##### BDF2 #####\")\n",
    "    print(\"un1 = \", un1)\n",
    "    print(\"vn1 = \", vn1)\n",
    "\n",
    "bdf2()"
   ]
  },
  {
   "cell_type": "markdown",
   "metadata": {},
   "source": [
    "## Two variable rk4\n",
    "\n",
    "The runge rutta 4 scheme is slightly more complex than the other schemes as it also takes derivatives at intermediate time steps. The formulation is however not that complex once unterstood the scheme.\n",
    "\n",
    "For the runge kutta 4th order scheme, it holds:\n",
    "\n",
    "$y_{n+1} = y_n + f( (k_0 + k_1 + k_2 + k_3) / 6 ) \\cdot dt$\n",
    "\n",
    "with:\n",
    "\n",
    "- $k_0 = f(y_n)$\n",
    "- $k_1 = f(y_n + k_0)$\n",
    "- $k_2 = f(y_n + k_1)$\n",
    "- $k_3 = f(y_n + k_2)$\n",
    "\n",
    "\n",
    "In the following formulation, the rk4 scheme is applied twice, $k$ stands for the right hand side components for displacement, while $g$ stands for the right hand side components for velocity."
   ]
  },
  {
   "cell_type": "code",
   "execution_count": 12,
   "metadata": {},
   "outputs": [
    {
     "name": "stdout",
     "output_type": "stream",
     "text": [
      "k0 =  dt*vn\n",
      "l0 =  dt*(-C*vn - K*un + f)/M\n",
      "k1 =  dt*(0.5*l0 + vn)\n",
      "l1 =  dt*(-C*(0.5*l0 + vn) - K*(0.5*k0 + un) + f)/M\n",
      "k2 =  dt*(0.5*l1 + vn)\n",
      "l2 =  dt*(-C*(0.5*l1 + vn) - K*(0.5*k1 + un) + f)/M\n",
      "k3 =  dt*(l2 + vn)\n",
      "l3 =  dt*(-C*(l2 + vn) - K*(k2 + un) + f)/M\n",
      "##### RK4 #####\n",
      "un1 =  k0/6 + k1/3 + k2/3 + k3/6 + un\n",
      "vn1 =  l0/6 + l1/3 + l2/3 + l3/6 + vn\n"
     ]
    }
   ],
   "source": [
    "def rk4():\n",
    "    # vn+1 = vn + f( (k0 + k1 + k2 + k3) / 6 ) * dt\n",
    "    un1, un, vn1, vn, t, dt = symbols('un1 un vn1 vn t dt')\n",
    "    k0, k1, k2, k3, l0, l1, l2, l3 = symbols ('k0 k1 k2 k3 l0 l1 l2 l3')\n",
    "\n",
    "    _k0 = dt*g(vn)\n",
    "    _l0 = dt*rhs(t, un, vn)\n",
    "\n",
    "    print(\"k0 = \", _k0)\n",
    "    print(\"l0 = \", _l0)\n",
    "\n",
    "    _k1 = dt*g(vn + 0.5*l0)\n",
    "    _l1 = dt*rhs(t + 0.5*dt, un + 0.5*k0, vn + 0.5*l0)\n",
    "\n",
    "    print(\"k1 = \", _k1)\n",
    "    print(\"l1 = \", _l1)\n",
    "\n",
    "    _k2 = dt*g(vn + 0.5*l1)\n",
    "    _l2 = dt*rhs(t + 0.5*dt, un + 0.5*k1, vn + 0.5*l1)\n",
    "\n",
    "    print(\"k2 = \", _k2)\n",
    "    print(\"l2 = \", _l2)\n",
    "\n",
    "    _k3 = dt*g(vn + l2)\n",
    "    _l3 = dt*rhs(t + dt, un + k2, vn + l2)\n",
    "\n",
    "    print(\"k3 = \", _k3)\n",
    "    print(\"l3 = \", _l3)\n",
    "\n",
    "    un1 = nsimplify (un + (1.0/6.0) * (k0 + 2*(k1+k2) +k3) )\n",
    "    vn1 = nsimplify (vn + (1.0/6.0) * (l0 + 2*(l1+l2) +l3) )\n",
    "\n",
    "    print(\"##### RK4 #####\")\n",
    "    print(\"un1 = \", un1)\n",
    "    print(\"vn1 = \", vn1)\n",
    "\n",
    "rk4()"
   ]
  },
  {
   "cell_type": "code",
   "execution_count": null,
   "metadata": {},
   "outputs": [],
   "source": []
  }
 ],
 "metadata": {
  "kernelspec": {
   "display_name": "Python 3",
   "language": "python",
   "name": "python3"
  },
  "language_info": {
   "codemirror_mode": {
    "name": "ipython",
    "version": 3
   },
   "file_extension": ".py",
   "mimetype": "text/x-python",
   "name": "python",
   "nbconvert_exporter": "python",
   "pygments_lexer": "ipython3",
   "version": "3.6.7"
  }
 },
 "nbformat": 4,
 "nbformat_minor": 2
}
